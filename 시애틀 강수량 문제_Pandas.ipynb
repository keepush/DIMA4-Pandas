{
 "cells": [
  {
   "cell_type": "markdown",
   "id": "9e6f49e6",
   "metadata": {},
   "source": [
    "# 시애틀 강수량 데이터 분석\n",
    "- 데이터 로딩\n",
    "- 필요하지 않은 컬럼 삭제 (STATION, STATION_NAME)\n",
    "- DATE를 날짜 형식으로 수정 : 기존 DATE 컬럼의 타입 int -> str로 변경 후 날짜 형식으로 변경\n",
    "- 날짜 컬럼을 인덱스로 변경\n",
    "- 강수량('PRCP')이 많은 날 상위 10일 출력\n",
    "- 1월 강수량만 출력\n",
    "- 1년동안 강수량이 40미만으로 내린 날이 몇일인가?\n",
    "- 1월에 내린 강수량의 합과 평균 강수량\n",
    "- 2월에 내린 강수량의 합과 평균 강수량"
   ]
  },
  {
   "cell_type": "code",
   "execution_count": 37,
   "id": "a03aa922-eda5-4bb2-b18b-1422aa04a3f8",
   "metadata": {},
   "outputs": [],
   "source": [
    "import numpy as np\n",
    "import pandas as pd"
   ]
  },
  {
   "cell_type": "code",
   "execution_count": 56,
   "id": "c8291d98-eb19-4de1-81a6-e82de63a7258",
   "metadata": {},
   "outputs": [
    {
     "name": "stdout",
     "output_type": "stream",
     "text": [
      "        DATE  PRCP  SNWD  SNOW  TMAX  TMIN  AWND  WDF2  WDF5  WSF2  WSF5  \\\n",
      "0 2014-01-01     0     0     0    72    33    12   340   310    36    40   \n",
      "1 2014-01-02    41     0     0   106    61    32   190   200    94   116   \n",
      "2 2014-01-03    15     0     0    89    28    26    30    50    63    72   \n",
      "3 2014-01-04     0     0     0    78     6    27    40    40    45    58   \n",
      "4 2014-01-05     0     0     0    83    -5    37    10    10    67    76   \n",
      "\n",
      "   WT01  WT05  WT02  WT03  \n",
      "0 -9999 -9999 -9999 -9999  \n",
      "1 -9999 -9999 -9999 -9999  \n",
      "2     1 -9999 -9999 -9999  \n",
      "3     1 -9999 -9999 -9999  \n",
      "4 -9999 -9999 -9999 -9999  \n"
     ]
    }
   ],
   "source": [
    "data = pd.read_csv('Seattle2014.csv')\n",
    "\n",
    "# 필요하지 않은 컬럼 삭제 (STATION, STATION_NAME)\n",
    "data.drop(['STATION','STATION_NAME'], axis=1, inplace=True)   # inplace 속성 지정해 true 넣을 경우, 처리 결과 반환 x\n",
    "\n",
    "#DATE를 날짜 형식으로 수정 : 기존 DATE 컬럼의 타입 int -> str로 변경 후 날짜 형식으로 변경\n",
    "# data['DATE'] = pd.to_datetime(data['DATE'].astype(str))\n",
    "data['DATE'] = pd.to_datetime(data['DATE'], format='%Y%m%d')\n",
    "print(data.head())"
   ]
  },
  {
   "cell_type": "code",
   "execution_count": 57,
   "id": "21fe42a6-d55d-417a-bc14-582b1affa60b",
   "metadata": {},
   "outputs": [
    {
     "name": "stdout",
     "output_type": "stream",
     "text": [
      "            PRCP  SNWD  SNOW  TMAX  TMIN  AWND  WDF2  WDF5  WSF2  WSF5  WT01  \\\n",
      "DATE                                                                           \n",
      "2014-01-01     0     0     0    72    33    12   340   310    36    40 -9999   \n",
      "2014-01-02    41     0     0   106    61    32   190   200    94   116 -9999   \n",
      "2014-01-03    15     0     0    89    28    26    30    50    63    72     1   \n",
      "2014-01-04     0     0     0    78     6    27    40    40    45    58     1   \n",
      "2014-01-05     0     0     0    83    -5    37    10    10    67    76 -9999   \n",
      "\n",
      "            WT05  WT02  WT03  \n",
      "DATE                          \n",
      "2014-01-01 -9999 -9999 -9999  \n",
      "2014-01-02 -9999 -9999 -9999  \n",
      "2014-01-03 -9999 -9999 -9999  \n",
      "2014-01-04 -9999 -9999 -9999  \n",
      "2014-01-05 -9999 -9999 -9999  \n"
     ]
    }
   ],
   "source": [
    "# 날짜 컬럼을 인덱스로 변경\n",
    "data.set_index('DATE', inplace=True)\n",
    "print(data.head())"
   ]
  },
  {
   "cell_type": "code",
   "execution_count": 51,
   "id": "bb6cd359-e48a-408e-b552-c7bb728d0667",
   "metadata": {},
   "outputs": [
    {
     "name": "stdout",
     "output_type": "stream",
     "text": [
      "            PRCP  SNWD  SNOW  TMAX  TMIN  AWND  WDF2  WDF5  WSF2  WSF5  WT01  \\\n",
      "DATE                                                                           \n",
      "2014-03-05   467     0     0   156   106    39   190   200   112   157     1   \n",
      "2014-11-28   343     0     0   128    33    58    10    10   103   143     1   \n",
      "2014-05-03   333     0     0   150    89    34   210   200    98   130     1   \n",
      "2014-03-08   323     0     0   128    67    27   200   210    76   103     1   \n",
      "2014-10-22   320     0     0   156   117    50   200   130    81   125     1   \n",
      "2014-03-16   277     0     0   106    44    38   230   240    76   103     1   \n",
      "2014-02-16   264     0     0    94    39    79   230   220   130   183     1   \n",
      "2014-10-30   254     0     0   156   111    32   100   110    72    94     1   \n",
      "2014-03-28   221     0     0   117    72    39   240   210    89   107     1   \n",
      "2014-08-13   216     0     0   233   150    27   200   200    63    63     1   \n",
      "\n",
      "            WT05  WT02  WT03  \n",
      "DATE                          \n",
      "2014-03-05 -9999 -9999 -9999  \n",
      "2014-11-28 -9999 -9999 -9999  \n",
      "2014-05-03 -9999 -9999 -9999  \n",
      "2014-03-08 -9999 -9999 -9999  \n",
      "2014-10-22 -9999 -9999 -9999  \n",
      "2014-03-16 -9999 -9999 -9999  \n",
      "2014-02-16 -9999 -9999 -9999  \n",
      "2014-10-30 -9999 -9999 -9999  \n",
      "2014-03-28 -9999 -9999 -9999  \n",
      "2014-08-13 -9999 -9999 -9999  \n"
     ]
    }
   ],
   "source": [
    "# 강수량('PRCP')이 많은 날 상위 10일 출력\n",
    "print(data.sort_values('PRCP', ascending=False))\n",
    "print(data.head(10))"
   ]
  },
  {
   "cell_type": "code",
   "execution_count": 54,
   "id": "dec2ee7b-a0a2-44f3-8e72-fafb339479cb",
   "metadata": {},
   "outputs": [
    {
     "name": "stdout",
     "output_type": "stream",
     "text": [
      "DATE\n",
      "2014-01-29    216\n",
      "2014-01-11    213\n",
      "2014-01-07    122\n",
      "2014-01-08     97\n",
      "2014-01-28     89\n",
      "2014-01-09     58\n",
      "2014-01-10     43\n",
      "2014-01-02     41\n",
      "2014-01-31     23\n",
      "2014-01-03     15\n",
      "2014-01-12     15\n",
      "2014-01-22      5\n",
      "2014-01-06      3\n",
      "2014-01-01      0\n",
      "2014-01-25      0\n",
      "2014-01-16      0\n",
      "2014-01-26      0\n",
      "2014-01-04      0\n",
      "2014-01-05      0\n",
      "2014-01-13      0\n",
      "2014-01-14      0\n",
      "2014-01-15      0\n",
      "2014-01-17      0\n",
      "2014-01-18      0\n",
      "2014-01-19      0\n",
      "2014-01-20      0\n",
      "2014-01-21      0\n",
      "2014-01-23      0\n",
      "2014-01-24      0\n",
      "2014-01-27      0\n",
      "2014-01-30      0\n",
      "Name: PRCP, dtype: int64\n"
     ]
    }
   ],
   "source": [
    "# 1월 강수량만 출력\n",
    "print(data['PRCP'][data.index.month ==1])"
   ]
  },
  {
   "cell_type": "code",
   "execution_count": 58,
   "id": "7164d66e-bb67-4778-afbc-e3bbe93a74ca",
   "metadata": {},
   "outputs": [
    {
     "name": "stdout",
     "output_type": "stream",
     "text": [
      "277\n"
     ]
    }
   ],
   "source": [
    "# 1년동안 강수량이 40미만으로 내린 날이 몇일인가?\n",
    "print(np.sum(data['PRCP'] < 40))"
   ]
  },
  {
   "cell_type": "code",
   "execution_count": 61,
   "id": "9a8c3995-1bb7-4a31-a332-da595519b6c7",
   "metadata": {},
   "outputs": [
    {
     "name": "stdout",
     "output_type": "stream",
     "text": [
      "277\n"
     ]
    }
   ],
   "source": [
    "print(len(data[data['PRCP'] < 40]))"
   ]
  },
  {
   "cell_type": "code",
   "execution_count": 65,
   "id": "684944fc-5b0c-4776-950a-f4c4876bce73",
   "metadata": {},
   "outputs": [
    {
     "name": "stdout",
     "output_type": "stream",
     "text": [
      "sum     940.00\n",
      "mean     30.32\n",
      "Name: PRCP, dtype: float64\n"
     ]
    }
   ],
   "source": [
    "# 1월에 내린 강수량의 합과 평균 강수량\n",
    "print(data['PRCP'][data.index.month ==1].agg(['sum','mean']).apply(lambda x : np.round(x,2)))"
   ]
  },
  {
   "cell_type": "code",
   "execution_count": 63,
   "id": "6bab6b30-b053-4fc0-93f8-620bb25bd88e",
   "metadata": {},
   "outputs": [
    {
     "name": "stdout",
     "output_type": "stream",
     "text": [
      "sum     1552.000000\n",
      "mean      55.428571\n",
      "Name: PRCP, dtype: float64\n"
     ]
    }
   ],
   "source": [
    "# 2월에 내린 강수량의 합과 평균 강수량\n",
    "print(data['PRCP'][data.index.month ==2].agg(['sum','mean']))"
   ]
  }
 ],
 "metadata": {
  "kernelspec": {
   "display_name": "Python 3 (ipykernel)",
   "language": "python",
   "name": "python3"
  },
  "language_info": {
   "codemirror_mode": {
    "name": "ipython",
    "version": 3
   },
   "file_extension": ".py",
   "mimetype": "text/x-python",
   "name": "python",
   "nbconvert_exporter": "python",
   "pygments_lexer": "ipython3",
   "version": "3.11.7"
  },
  "toc": {
   "base_numbering": 1,
   "nav_menu": {},
   "number_sections": true,
   "sideBar": true,
   "skip_h1_title": false,
   "title_cell": "Table of Contents",
   "title_sidebar": "Contents",
   "toc_cell": false,
   "toc_position": {
    "height": "calc(100% - 180px)",
    "left": "10px",
    "top": "150px",
    "width": "253.475px"
   },
   "toc_section_display": true,
   "toc_window_display": false
  }
 },
 "nbformat": 4,
 "nbformat_minor": 5
}
